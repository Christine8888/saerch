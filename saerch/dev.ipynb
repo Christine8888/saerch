{
 "cells": [
  {
   "cell_type": "code",
   "execution_count": 3,
   "metadata": {},
   "outputs": [],
   "source": [
    "import pandas as pd\n",
    "from datasets import load_dataset\n",
    "import numpy as np\n",
    "import json"
   ]
  },
  {
   "cell_type": "code",
   "execution_count": 5,
   "metadata": {},
   "outputs": [],
   "source": [
    "abstract_texts_path = '../data/vector_store_csLG/abstract_texts.json'\n",
    "abstracts_embeddings_path = '../data/vector_store_csLG/abstract_embeddings.npy'\n",
    "\n",
    "abstract_texts = json.load(open(abstract_texts_path))\n",
    "abstracts_embeddings = np.load(abstracts_embeddings_path)"
   ]
  },
  {
   "cell_type": "code",
   "execution_count": 28,
   "metadata": {},
   "outputs": [],
   "source": [
    "# Load the dataset from huggingface\n",
    "ds = load_dataset('charlieoneill/csLG')"
   ]
  },
  {
   "cell_type": "code",
   "execution_count": 15,
   "metadata": {},
   "outputs": [],
   "source": [
    "hf_ids = ds['train']['id']\n",
    "hf_ids_set = set(hf_ids)"
   ]
  },
  {
   "cell_type": "code",
   "execution_count": 16,
   "metadata": {},
   "outputs": [],
   "source": [
    "our_ids = abstract_texts['doc_ids']\n",
    "our_ids_set = set(our_ids)"
   ]
  },
  {
   "cell_type": "code",
   "execution_count": 17,
   "metadata": {},
   "outputs": [
    {
     "name": "stdout",
     "output_type": "stream",
     "text": [
      "153146 153146\n",
      "153146\n"
     ]
    }
   ],
   "source": [
    "# Print length and intersection of the two sets\n",
    "print(len(hf_ids_set), len(our_ids_set))\n",
    "print(len(hf_ids_set.intersection(our_ids_set)))"
   ]
  },
  {
   "cell_type": "code",
   "execution_count": 24,
   "metadata": {},
   "outputs": [
    {
     "data": {
      "text/plain": [
       "DatasetDict({\n",
       "    train: Dataset({\n",
       "        features: ['categories', 'doi', 'id', 'year', 'venue', 'link', 'updated', 'published', 'title', 'abstract', 'authors'],\n",
       "        num_rows: 153146\n",
       "    })\n",
       "})"
      ]
     },
     "execution_count": 24,
     "metadata": {},
     "output_type": "execute_result"
    }
   ],
   "source": [
    "ds"
   ]
  },
  {
   "cell_type": "code",
   "execution_count": 29,
   "metadata": {},
   "outputs": [
    {
     "data": {
      "text/plain": [
       "DatasetDict({\n",
       "    train: Dataset({\n",
       "        features: ['doi', 'id', 'year', 'title', 'authors'],\n",
       "        num_rows: 153146\n",
       "    })\n",
       "})"
      ]
     },
     "execution_count": 29,
     "metadata": {},
     "output_type": "execute_result"
    }
   ],
   "source": [
    "# Drop columns from the dataset\n",
    "ds = ds.remove_columns(['categories', 'abstract', 'venue', 'link', 'updated', 'published'])\n",
    "ds"
   ]
  },
  {
   "cell_type": "code",
   "execution_count": 32,
   "metadata": {},
   "outputs": [
    {
     "data": {
      "text/html": [
       "<div>\n",
       "<style scoped>\n",
       "    .dataframe tbody tr th:only-of-type {\n",
       "        vertical-align: middle;\n",
       "    }\n",
       "\n",
       "    .dataframe tbody tr th {\n",
       "        vertical-align: top;\n",
       "    }\n",
       "\n",
       "    .dataframe thead th {\n",
       "        text-align: right;\n",
       "    }\n",
       "</style>\n",
       "<table border=\"1\" class=\"dataframe\">\n",
       "  <thead>\n",
       "    <tr style=\"text-align: right;\">\n",
       "      <th></th>\n",
       "      <th>doi</th>\n",
       "      <th>id</th>\n",
       "      <th>year</th>\n",
       "      <th>title</th>\n",
       "      <th>authors</th>\n",
       "    </tr>\n",
       "  </thead>\n",
       "  <tbody>\n",
       "    <tr>\n",
       "      <th>0</th>\n",
       "      <td>None</td>\n",
       "      <td>0001004</td>\n",
       "      <td>NaN</td>\n",
       "      <td>Multiplicative Algorithm for Orthgonal Groups ...</td>\n",
       "      <td>[['Toshinao Akuzawa']]</td>\n",
       "    </tr>\n",
       "    <tr>\n",
       "      <th>1</th>\n",
       "      <td>None</td>\n",
       "      <td>0001008</td>\n",
       "      <td>NaN</td>\n",
       "      <td>Predicting the expected behavior of agents tha...</td>\n",
       "      <td>[['Jose M. Vidal' 'Edmund H. Durfee']]</td>\n",
       "    </tr>\n",
       "    <tr>\n",
       "      <th>2</th>\n",
       "      <td>None</td>\n",
       "      <td>0001027</td>\n",
       "      <td>NaN</td>\n",
       "      <td>Pattern Discovery and Computational Mechanics</td>\n",
       "      <td>[['Cosma Rohilla Shalizi' 'James P. Crutchfiel...</td>\n",
       "    </tr>\n",
       "    <tr>\n",
       "      <th>3</th>\n",
       "      <td>None</td>\n",
       "      <td>0002006</td>\n",
       "      <td>NaN</td>\n",
       "      <td>Multiplicative Nonholonomic/Newton -like Algor...</td>\n",
       "      <td>[['Toshinao Akuzawa' 'Noboru Murata']]</td>\n",
       "    </tr>\n",
       "    <tr>\n",
       "      <th>4</th>\n",
       "      <td>None</td>\n",
       "      <td>0003072</td>\n",
       "      <td>NaN</td>\n",
       "      <td>MOO: A Methodology for Online Optimization thr...</td>\n",
       "      <td>[['Jason W. H. Lee' 'Y. C. Tay' 'Anthony K. H....</td>\n",
       "    </tr>\n",
       "  </tbody>\n",
       "</table>\n",
       "</div>"
      ],
      "text/plain": [
       "    doi       id  year                                              title  \\\n",
       "0  None  0001004   NaN  Multiplicative Algorithm for Orthgonal Groups ...   \n",
       "1  None  0001008   NaN  Predicting the expected behavior of agents tha...   \n",
       "2  None  0001027   NaN      Pattern Discovery and Computational Mechanics   \n",
       "3  None  0002006   NaN  Multiplicative Nonholonomic/Newton -like Algor...   \n",
       "4  None  0003072   NaN  MOO: A Methodology for Online Optimization thr...   \n",
       "\n",
       "                                             authors  \n",
       "0                             [['Toshinao Akuzawa']]  \n",
       "1             [['Jose M. Vidal' 'Edmund H. Durfee']]  \n",
       "2  [['Cosma Rohilla Shalizi' 'James P. Crutchfiel...  \n",
       "3             [['Toshinao Akuzawa' 'Noboru Murata']]  \n",
       "4  [['Jason W. H. Lee' 'Y. C. Tay' 'Anthony K. H....  "
      ]
     },
     "execution_count": 32,
     "metadata": {},
     "output_type": "execute_result"
    }
   ],
   "source": [
    "# Convert to pandas\n",
    "df = pd.DataFrame(ds['train'])   \n",
    "df.head()"
   ]
  },
  {
   "cell_type": "code",
   "execution_count": 33,
   "metadata": {},
   "outputs": [
    {
     "data": {
      "text/html": [
       "<div>\n",
       "<style scoped>\n",
       "    .dataframe tbody tr th:only-of-type {\n",
       "        vertical-align: middle;\n",
       "    }\n",
       "\n",
       "    .dataframe tbody tr th {\n",
       "        vertical-align: top;\n",
       "    }\n",
       "\n",
       "    .dataframe thead th {\n",
       "        text-align: right;\n",
       "    }\n",
       "</style>\n",
       "<table border=\"1\" class=\"dataframe\">\n",
       "  <thead>\n",
       "    <tr style=\"text-align: right;\">\n",
       "      <th></th>\n",
       "      <th>doi</th>\n",
       "      <th>arxiv_id</th>\n",
       "      <th>year</th>\n",
       "      <th>title</th>\n",
       "      <th>authors</th>\n",
       "      <th>citation_count</th>\n",
       "    </tr>\n",
       "  </thead>\n",
       "  <tbody>\n",
       "    <tr>\n",
       "      <th>0</th>\n",
       "      <td>None</td>\n",
       "      <td>0001004</td>\n",
       "      <td>NaN</td>\n",
       "      <td>Multiplicative Algorithm for Orthgonal Groups ...</td>\n",
       "      <td>[['Toshinao Akuzawa']]</td>\n",
       "      <td>0</td>\n",
       "    </tr>\n",
       "    <tr>\n",
       "      <th>1</th>\n",
       "      <td>None</td>\n",
       "      <td>0001008</td>\n",
       "      <td>NaN</td>\n",
       "      <td>Predicting the expected behavior of agents tha...</td>\n",
       "      <td>[['Jose M. Vidal' 'Edmund H. Durfee']]</td>\n",
       "      <td>0</td>\n",
       "    </tr>\n",
       "    <tr>\n",
       "      <th>2</th>\n",
       "      <td>None</td>\n",
       "      <td>0001027</td>\n",
       "      <td>NaN</td>\n",
       "      <td>Pattern Discovery and Computational Mechanics</td>\n",
       "      <td>[['Cosma Rohilla Shalizi' 'James P. Crutchfiel...</td>\n",
       "      <td>0</td>\n",
       "    </tr>\n",
       "    <tr>\n",
       "      <th>3</th>\n",
       "      <td>None</td>\n",
       "      <td>0002006</td>\n",
       "      <td>NaN</td>\n",
       "      <td>Multiplicative Nonholonomic/Newton -like Algor...</td>\n",
       "      <td>[['Toshinao Akuzawa' 'Noboru Murata']]</td>\n",
       "      <td>0</td>\n",
       "    </tr>\n",
       "    <tr>\n",
       "      <th>4</th>\n",
       "      <td>None</td>\n",
       "      <td>0003072</td>\n",
       "      <td>NaN</td>\n",
       "      <td>MOO: A Methodology for Online Optimization thr...</td>\n",
       "      <td>[['Jason W. H. Lee' 'Y. C. Tay' 'Anthony K. H....</td>\n",
       "      <td>0</td>\n",
       "    </tr>\n",
       "  </tbody>\n",
       "</table>\n",
       "</div>"
      ],
      "text/plain": [
       "    doi arxiv_id  year                                              title  \\\n",
       "0  None  0001004   NaN  Multiplicative Algorithm for Orthgonal Groups ...   \n",
       "1  None  0001008   NaN  Predicting the expected behavior of agents tha...   \n",
       "2  None  0001027   NaN      Pattern Discovery and Computational Mechanics   \n",
       "3  None  0002006   NaN  Multiplicative Nonholonomic/Newton -like Algor...   \n",
       "4  None  0003072   NaN  MOO: A Methodology for Online Optimization thr...   \n",
       "\n",
       "                                             authors  citation_count  \n",
       "0                             [['Toshinao Akuzawa']]               0  \n",
       "1             [['Jose M. Vidal' 'Edmund H. Durfee']]               0  \n",
       "2  [['Cosma Rohilla Shalizi' 'James P. Crutchfiel...               0  \n",
       "3             [['Toshinao Akuzawa' 'Noboru Murata']]               0  \n",
       "4  [['Jason W. H. Lee' 'Y. C. Tay' 'Anthony K. H....               0  "
      ]
     },
     "execution_count": 33,
     "metadata": {},
     "output_type": "execute_result"
    }
   ],
   "source": [
    "df.rename(columns={'id': 'arxiv_id'}, inplace=True)\n",
    "df['citation_count'] = 0\n",
    "df.head()"
   ]
  },
  {
   "cell_type": "code",
   "execution_count": 35,
   "metadata": {},
   "outputs": [],
   "source": [
    "# Replace NaN in year column with 2023\n",
    "df['year'] = df['year'].fillna(2023)\n",
    "df['year'] = df['year'].astype(int)\n",
    "\n",
    "# Convert arxiv_id column to str\n",
    "df['arxiv_id'] = df['arxiv_id'].astype(str)"
   ]
  },
  {
   "cell_type": "code",
   "execution_count": 36,
   "metadata": {},
   "outputs": [
    {
     "data": {
      "text/html": [
       "<div>\n",
       "<style scoped>\n",
       "    .dataframe tbody tr th:only-of-type {\n",
       "        vertical-align: middle;\n",
       "    }\n",
       "\n",
       "    .dataframe tbody tr th {\n",
       "        vertical-align: top;\n",
       "    }\n",
       "\n",
       "    .dataframe thead th {\n",
       "        text-align: right;\n",
       "    }\n",
       "</style>\n",
       "<table border=\"1\" class=\"dataframe\">\n",
       "  <thead>\n",
       "    <tr style=\"text-align: right;\">\n",
       "      <th></th>\n",
       "      <th>doi</th>\n",
       "      <th>arxiv_id</th>\n",
       "      <th>year</th>\n",
       "      <th>title</th>\n",
       "      <th>authors</th>\n",
       "      <th>citation_count</th>\n",
       "    </tr>\n",
       "  </thead>\n",
       "  <tbody>\n",
       "    <tr>\n",
       "      <th>0</th>\n",
       "      <td>None</td>\n",
       "      <td>0001004</td>\n",
       "      <td>2023</td>\n",
       "      <td>Multiplicative Algorithm for Orthgonal Groups ...</td>\n",
       "      <td>[['Toshinao Akuzawa']]</td>\n",
       "      <td>0</td>\n",
       "    </tr>\n",
       "    <tr>\n",
       "      <th>1</th>\n",
       "      <td>None</td>\n",
       "      <td>0001008</td>\n",
       "      <td>2023</td>\n",
       "      <td>Predicting the expected behavior of agents tha...</td>\n",
       "      <td>[['Jose M. Vidal' 'Edmund H. Durfee']]</td>\n",
       "      <td>0</td>\n",
       "    </tr>\n",
       "    <tr>\n",
       "      <th>2</th>\n",
       "      <td>None</td>\n",
       "      <td>0001027</td>\n",
       "      <td>2023</td>\n",
       "      <td>Pattern Discovery and Computational Mechanics</td>\n",
       "      <td>[['Cosma Rohilla Shalizi' 'James P. Crutchfiel...</td>\n",
       "      <td>0</td>\n",
       "    </tr>\n",
       "    <tr>\n",
       "      <th>3</th>\n",
       "      <td>None</td>\n",
       "      <td>0002006</td>\n",
       "      <td>2023</td>\n",
       "      <td>Multiplicative Nonholonomic/Newton -like Algor...</td>\n",
       "      <td>[['Toshinao Akuzawa' 'Noboru Murata']]</td>\n",
       "      <td>0</td>\n",
       "    </tr>\n",
       "    <tr>\n",
       "      <th>4</th>\n",
       "      <td>None</td>\n",
       "      <td>0003072</td>\n",
       "      <td>2023</td>\n",
       "      <td>MOO: A Methodology for Online Optimization thr...</td>\n",
       "      <td>[['Jason W. H. Lee' 'Y. C. Tay' 'Anthony K. H....</td>\n",
       "      <td>0</td>\n",
       "    </tr>\n",
       "  </tbody>\n",
       "</table>\n",
       "</div>"
      ],
      "text/plain": [
       "    doi arxiv_id  year                                              title  \\\n",
       "0  None  0001004  2023  Multiplicative Algorithm for Orthgonal Groups ...   \n",
       "1  None  0001008  2023  Predicting the expected behavior of agents tha...   \n",
       "2  None  0001027  2023      Pattern Discovery and Computational Mechanics   \n",
       "3  None  0002006  2023  Multiplicative Nonholonomic/Newton -like Algor...   \n",
       "4  None  0003072  2023  MOO: A Methodology for Online Optimization thr...   \n",
       "\n",
       "                                             authors  citation_count  \n",
       "0                             [['Toshinao Akuzawa']]               0  \n",
       "1             [['Jose M. Vidal' 'Edmund H. Durfee']]               0  \n",
       "2  [['Cosma Rohilla Shalizi' 'James P. Crutchfiel...               0  \n",
       "3             [['Toshinao Akuzawa' 'Noboru Murata']]               0  \n",
       "4  [['Jason W. H. Lee' 'Y. C. Tay' 'Anthony K. H....               0  "
      ]
     },
     "execution_count": 36,
     "metadata": {},
     "output_type": "execute_result"
    }
   ],
   "source": [
    "df.head()"
   ]
  },
  {
   "cell_type": "code",
   "execution_count": 37,
   "metadata": {},
   "outputs": [],
   "source": [
    "# Save\n",
    "df.to_csv('sae_data_csLG/paper_metadata.csv', index=False)"
   ]
  },
  {
   "cell_type": "code",
   "execution_count": null,
   "metadata": {},
   "outputs": [],
   "source": []
  }
 ],
 "metadata": {
  "kernelspec": {
   "display_name": "saerch",
   "language": "python",
   "name": "python3"
  },
  "language_info": {
   "codemirror_mode": {
    "name": "ipython",
    "version": 3
   },
   "file_extension": ".py",
   "mimetype": "text/x-python",
   "name": "python",
   "nbconvert_exporter": "python",
   "pygments_lexer": "ipython3",
   "version": "3.12.4"
  }
 },
 "nbformat": 4,
 "nbformat_minor": 2
}
